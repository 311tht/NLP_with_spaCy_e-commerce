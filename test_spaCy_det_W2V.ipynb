{
 "cells": [
  {
   "cell_type": "code",
   "execution_count": 11,
   "id": "7e6f99d6",
   "metadata": {},
   "outputs": [],
   "source": [
    "import spacy\n",
    "import json\n",
    "import numpy as np\n",
    "from numpy.linalg import norm\n",
    "from sklearn.metrics.pairwise import cosine_similarity\n",
    "from spacy.training.example import Example\n",
    "\n",
    "nlp = spacy.load(\"en_core_web_sm\")"
   ]
  },
  {
   "cell_type": "code",
   "execution_count": 12,
   "id": "3782e2fd",
   "metadata": {},
   "outputs": [],
   "source": [
    " def load_mappings(dataset):\n",
    "    f = open(dataset, 'r',encoding='utf-8')\n",
    "    model= dict({})\n",
    "    for line in f:\n",
    "        tem=line.split()\n",
    "        vtem=[]\n",
    "        for i in range(1,len(tem)):\n",
    "            vtem.append( float(tem[i].strip()))\n",
    "        vec1=np.array(vtem)\n",
    "        model.update({tem[0].strip():vec1})\n",
    "    return model"
   ]
  },
  {
   "cell_type": "code",
   "execution_count": 36,
   "id": "400d0ad0",
   "metadata": {},
   "outputs": [],
   "source": [
    "my_text = \"I want to buy a blue phone and 8G ram.\"\n",
    "doc = nlp(my_text)"
   ]
  },
  {
   "cell_type": "code",
   "execution_count": 37,
   "id": "b1062e7e",
   "metadata": {},
   "outputs": [],
   "source": [
    "for token in doc:\n",
    "    if (\"dobj\" in token.dep_):\n",
    "        subtree = list(token.subtree)\n",
    "        start = subtree[0].i\n",
    "        end = subtree[-1].i + 1\n",
    "        # return subtree(list), token(product), extract(string)\n",
    "        extract = doc[start:end]\n",
    "        product = token.text\n"
   ]
  },
  {
   "cell_type": "code",
   "execution_count": 40,
   "id": "fe98e918",
   "metadata": {},
   "outputs": [
    {
     "data": {
      "text/plain": [
       "'phone'"
      ]
     },
     "execution_count": 40,
     "metadata": {},
     "output_type": "execute_result"
    }
   ],
   "source": [
    "product"
   ]
  },
  {
   "cell_type": "code",
   "execution_count": 42,
   "id": "c957a7a5",
   "metadata": {},
   "outputs": [
    {
     "data": {
      "text/plain": [
       "a blue phone and 8G ram"
      ]
     },
     "execution_count": 42,
     "metadata": {},
     "output_type": "execute_result"
    }
   ],
   "source": [
    "extract"
   ]
  },
  {
   "cell_type": "code",
   "execution_count": 17,
   "id": "127c5ede",
   "metadata": {},
   "outputs": [],
   "source": [
    "#load w2v\n",
    "load_model = load_mappings(\"glove.6B.300d.txt\")"
   ]
  },
  {
   "cell_type": "code",
   "execution_count": 43,
   "id": "bd5b01d0",
   "metadata": {},
   "outputs": [],
   "source": [
    "# get_category \n",
    "def get_category(product, my_list):\n",
    "    if product in load_model:\n",
    "        embeddings = []\n",
    "        v1 = load_model[product.strip()]\n",
    "        embeddings.append(v1)\n",
    "        for category in my_list:\n",
    "            embeddings.append(load_model[category.strip()])\n",
    "        cos_sim = cosine_similarity([embeddings[0]], embeddings[1:])\n",
    "        return my_list[np.argmax(cos_sim)]\n",
    "    return 0"
   ]
  },
  {
   "cell_type": "code",
   "execution_count": 44,
   "id": "d6201c87",
   "metadata": {},
   "outputs": [],
   "source": [
    "category_list = [\"phone\", \"laptop\",\"clothes\"]"
   ]
  },
  {
   "cell_type": "code",
   "execution_count": null,
   "id": "b09032a8",
   "metadata": {},
   "outputs": [],
   "source": []
  },
  {
   "cell_type": "code",
   "execution_count": 45,
   "id": "9f22bcd1",
   "metadata": {
    "scrolled": true
   },
   "outputs": [
    {
     "data": {
      "text/plain": [
       "'phone'"
      ]
     },
     "execution_count": 45,
     "metadata": {},
     "output_type": "execute_result"
    }
   ],
   "source": [
    "my_category = get_category(token.text, category_list)\n",
    "my_category"
   ]
  },
  {
   "cell_type": "code",
   "execution_count": 46,
   "id": "5d44bce1",
   "metadata": {},
   "outputs": [
    {
     "data": {
      "text/plain": [
       "['color', 'ram', 'price']"
      ]
     },
     "execution_count": 46,
     "metadata": {},
     "output_type": "execute_result"
    }
   ],
   "source": [
    "# Sau khi có category thì đi vào file json để lấy ra các danh mục của item attributes\n",
    "with open('data/category-list.json') as f:\n",
    "    data = json.load(f)\n",
    "\n",
    "# Lấy ra tất cả các category\n",
    "phones = [item for item in data if item['category'] == my_category]\n",
    "for item in phones:\n",
    "    attributes_json = item['item attributes']\n",
    "\n",
    "list_attributes_json = list(attributes_json.keys())\n",
    "# Cần đưa về chữ thường để tránh các trường hợp chữ hoa W2V không bắt được\n",
    "list_attributes_json = [x.lower() for x in list_attributes_json]\n",
    "\n",
    "list_attributes_json"
   ]
  },
  {
   "cell_type": "code",
   "execution_count": null,
   "id": "ef0cfdf6",
   "metadata": {},
   "outputs": [],
   "source": []
  },
  {
   "cell_type": "code",
   "execution_count": 47,
   "id": "1a7e7dad",
   "metadata": {},
   "outputs": [],
   "source": [
    "# Bước 3\n",
    "doc = nlp(extract.text)\n",
    "list_attributes_noun = []\n",
    "list_attributes_adj = []\n",
    "# lấy ra các adj, và noun không phải là product lưu vào 2 list\n",
    "for token in doc:\n",
    "    if token.pos_ == \"ADJ\":\n",
    "        list_attributes_adj.append(token.text.lower())\n",
    "    elif token.pos_ == \"NOUN\" and token.text != str(product):\n",
    "        list_attributes_noun.append(token.text.lower())"
   ]
  },
  {
   "cell_type": "code",
   "execution_count": 48,
   "id": "70ba1514",
   "metadata": {},
   "outputs": [
    {
     "name": "stdout",
     "output_type": "stream",
     "text": [
      "['color', 'ram', 'price']\n",
      "['blue']\n"
     ]
    }
   ],
   "source": [
    "print(list_attributes_json)\n",
    "print(list_attributes_adj)"
   ]
  },
  {
   "cell_type": "code",
   "execution_count": null,
   "id": "dcdcabfd",
   "metadata": {},
   "outputs": [],
   "source": [
    "def get_attributes_list(list_attributes_adj, list_attributes_json):\n",
    "    get_attributes = {}\n",
    "    for attributes_json in list_attributes_json:\n",
    "        embeddings = []\n",
    "        if attributes_adj in load_model:\n",
    "            v1 = load_model[product.strip()]\n",
    "            embeddings.append(v1)\n",
    "            for attributes_adj in list_attributes_adj:\n",
    "                if attributes_json in load_model:\n",
    "                    embeddings.append(load_model[category.strip()])\n",
    "                else:\n",
    "                    list_attributes_json.remove(attributes_json)\n",
    "        cos_sim = cosine_similarity([embeddings[0]], embeddings[1:])\n",
    "        get_attributes.append(my_list[np.argmax(cos_sim)])\n",
    "    return 0"
   ]
  },
  {
   "cell_type": "code",
   "execution_count": null,
   "id": "18538773",
   "metadata": {},
   "outputs": [],
   "source": []
  },
  {
   "cell_type": "code",
   "execution_count": null,
   "id": "45618fd0",
   "metadata": {},
   "outputs": [],
   "source": []
  }
 ],
 "metadata": {
  "kernelspec": {
   "display_name": "Python 3 (ipykernel)",
   "language": "python",
   "name": "python3"
  },
  "language_info": {
   "codemirror_mode": {
    "name": "ipython",
    "version": 3
   },
   "file_extension": ".py",
   "mimetype": "text/x-python",
   "name": "python",
   "nbconvert_exporter": "python",
   "pygments_lexer": "ipython3",
   "version": "3.10.9"
  }
 },
 "nbformat": 4,
 "nbformat_minor": 5
}

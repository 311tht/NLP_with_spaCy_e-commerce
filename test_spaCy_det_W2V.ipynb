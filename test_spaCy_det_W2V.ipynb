{
 "cells": [
  {
   "cell_type": "code",
   "execution_count": 44,
   "id": "7e6f99d6",
   "metadata": {},
   "outputs": [],
   "source": [
    "import spacy\n",
    "import json\n",
    "import numpy as np\n",
    "from numpy.linalg import norm\n",
    "from sklearn.metrics.pairwise import cosine_similarity\n",
    "from spacy.training.example import Example\n",
    "\n",
    "nlp = spacy.load(\"en_core_web_sm\")"
   ]
  },
  {
   "cell_type": "code",
   "execution_count": 45,
   "id": "3782e2fd",
   "metadata": {},
   "outputs": [],
   "source": [
    " def load_mappings(dataset):\n",
    "    f = open(dataset, 'r',encoding='utf-8')\n",
    "    model= dict({})\n",
    "    for line in f:\n",
    "        tem=line.split()\n",
    "        vtem=[]\n",
    "        for i in range(1,len(tem)):\n",
    "            vtem.append( float(tem[i].strip()))\n",
    "        vec1=np.array(vtem)\n",
    "        model.update({tem[0].strip():vec1})\n",
    "    return model"
   ]
  },
  {
   "cell_type": "code",
   "execution_count": 20,
   "id": "400d0ad0",
   "metadata": {},
   "outputs": [],
   "source": [
    "my_text = \"i want to buy a blue and long sleeve shirt\""
   ]
  },
  {
   "cell_type": "code",
   "execution_count": 21,
   "id": "43689b65",
   "metadata": {},
   "outputs": [],
   "source": [
    "doc = nlp(my_text)"
   ]
  },
  {
   "cell_type": "code",
   "execution_count": 39,
   "id": "b1062e7e",
   "metadata": {},
   "outputs": [
    {
     "name": "stdout",
     "output_type": "stream",
     "text": [
      "True\n",
      "token: i, day la .dep_: nsubj và pos_: PRON\n",
      "[i] -- nsubj\n",
      "False\n",
      "token: want, day la .dep_: ROOT và pos_: VERB\n",
      "[i, want, to, buy, a, blue, and, long, sleeve, shirt] -- ROOT\n",
      "True\n",
      "token: to, day la .dep_: aux và pos_: PART\n",
      "[to] -- aux\n",
      "False\n",
      "token: buy, day la .dep_: xcomp và pos_: VERB\n",
      "[to, buy, a, blue, and, long, sleeve, shirt] -- xcomp\n",
      "True\n",
      "token: a, day la .dep_: det và pos_: DET\n",
      "[a] -- det\n",
      "False\n",
      "token: blue, day la .dep_: amod và pos_: ADJ\n",
      "[blue, and, long] -- amod\n",
      "True\n",
      "token: and, day la .dep_: cc và pos_: CCONJ\n",
      "[and] -- cc\n",
      "False\n",
      "token: long, day la .dep_: conj và pos_: ADJ\n",
      "[long] -- conj\n",
      "False\n",
      "token: sleeve, day la .dep_: compound và pos_: NOUN\n",
      "[blue, and, long, sleeve] -- compound\n",
      "False\n",
      "token: shirt, day la .dep_: dobj và pos_: NOUN\n",
      "[a, blue, and, long, sleeve, shirt] -- dobj\n",
      "result: a blue and long sleeve shirt\n"
     ]
    }
   ],
   "source": [
    "for token in doc:\n",
    "    print(token.is_stop)\n",
    "    print(f'token: {token}, day la .dep_: {token.dep_} và pos_: {token.pos_}')\n",
    "    print(list(token.subtree), '--', token.dep_)\n",
    "    if (\"dobj\" in token.dep_):\n",
    "        subtree = list(token.subtree)\n",
    "        start = subtree[0].i\n",
    "        end = subtree[-1].i + 1\n",
    "        extract = doc[start:end]\n",
    "        product = token\n",
    "        print(f'result: {doc[start:end]}')"
   ]
  },
  {
   "cell_type": "code",
   "execution_count": 57,
   "id": "fe98e918",
   "metadata": {},
   "outputs": [
    {
     "data": {
      "text/plain": [
       "spacy.tokens.token.Token"
      ]
     },
     "execution_count": 57,
     "metadata": {},
     "output_type": "execute_result"
    }
   ],
   "source": [
    "type(token)"
   ]
  },
  {
   "cell_type": "code",
   "execution_count": 46,
   "id": "127c5ede",
   "metadata": {},
   "outputs": [],
   "source": [
    "#load w2v\n",
    "load_model = load_mappings(\"glove.6B.300d.txt\")"
   ]
  },
  {
   "cell_type": "code",
   "execution_count": 122,
   "id": "bd5b01d0",
   "metadata": {},
   "outputs": [],
   "source": [
    "# get_product_category \n",
    "def get_product_category(product, my_list):\n",
    "    if product in load_model:\n",
    "        embeddings = []\n",
    "        v1 = load_model[product.strip()]\n",
    "        embeddings.append(v1)\n",
    "        for category in my_list:\n",
    "            embeddings.append(load_model[category.strip()])\n",
    "        cos_sim = cosine_similarity( [embeddings[0]], embeddings[1:])\n",
    "        return my_list[np.argmax(cos_sim)]\n",
    "    return 0"
   ]
  },
  {
   "cell_type": "code",
   "execution_count": 123,
   "id": "d6201c87",
   "metadata": {},
   "outputs": [],
   "source": [
    "category_list = [\"phone\", \"laptop\",\"computer\"]"
   ]
  },
  {
   "cell_type": "code",
   "execution_count": null,
   "id": "b09032a8",
   "metadata": {},
   "outputs": [],
   "source": []
  },
  {
   "cell_type": "code",
   "execution_count": 125,
   "id": "9f22bcd1",
   "metadata": {
    "scrolled": true
   },
   "outputs": [
    {
     "data": {
      "text/plain": [
       "'phone'"
      ]
     },
     "execution_count": 125,
     "metadata": {},
     "output_type": "execute_result"
    }
   ],
   "source": [
    "get_product_category(token.text, category_list)"
   ]
  },
  {
   "cell_type": "code",
   "execution_count": 170,
   "id": "5d44bce1",
   "metadata": {},
   "outputs": [
    {
     "data": {
      "text/plain": [
       "['COLOR', 'RAM', 'PRICE']"
      ]
     },
     "execution_count": 170,
     "metadata": {},
     "output_type": "execute_result"
    }
   ],
   "source": [
    "# Sau khi có category thì đi vào file json để lấy ra các danh mục của item attributes\n",
    "with open('data/category-list.json') as f:\n",
    "    data = json.load(f)\n",
    "\n",
    "# Lấy ra tất cả các category\n",
    "phones = [item for item in data if item['category'] == get_product_category(token.text, category_list)]\n",
    "for item in phones:\n",
    "    attributes = item['item attributes']\n",
    "type(attributes)\n",
    "\n",
    "list_attributes = list(attributes.keys())\n",
    "list_attributes"
   ]
  },
  {
   "cell_type": "code",
   "execution_count": null,
   "id": "ef0cfdf6",
   "metadata": {},
   "outputs": [],
   "source": []
  },
  {
   "cell_type": "code",
   "execution_count": null,
   "id": "1a7e7dad",
   "metadata": {},
   "outputs": [],
   "source": []
  }
 ],
 "metadata": {
  "kernelspec": {
   "display_name": "Python 3 (ipykernel)",
   "language": "python",
   "name": "python3"
  },
  "language_info": {
   "codemirror_mode": {
    "name": "ipython",
    "version": 3
   },
   "file_extension": ".py",
   "mimetype": "text/x-python",
   "name": "python",
   "nbconvert_exporter": "python",
   "pygments_lexer": "ipython3",
   "version": "3.10.9"
  }
 },
 "nbformat": 4,
 "nbformat_minor": 5
}

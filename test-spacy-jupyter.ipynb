{
 "cells": [
  {
   "cell_type": "code",
   "execution_count": 7,
   "id": "b5eb21a5",
   "metadata": {
    "scrolled": true
   },
   "outputs": [
    {
     "name": "stdout",
     "output_type": "stream",
     "text": [
      "The name of the entity: the \"Education of Daughters, The entity type code, based on the: LAW, An explanation of the entity type code: Named documents made into laws.\n",
      "The name of the entity: Mary Wollstonecraft, The entity type code, based on the: PERSON, An explanation of the entity type code: People, including fictional\n",
      "The name of the entity: some weeks, The entity type code, based on the: DATE, An explanation of the entity type code: Absolute or relative dates or periods\n",
      "The name of the entity: Eton, The entity type code, based on the: ORG, An explanation of the entity type code: Companies, agencies, institutions, etc.\n",
      "The name of the entity: one, The entity type code, based on the: CARDINAL, An explanation of the entity type code: Numerals that do not fall under another type\n",
      "The name of the entity: Kingsborough, The entity type code, based on the: PERSON, An explanation of the entity type code: People, including fictional\n",
      "The name of the entity: Irish, The entity type code, based on the: NORP, An explanation of the entity type code: Nationalities or religious or political groups\n",
      "The name of the entity: Earl, The entity type code, based on the: PERSON, An explanation of the entity type code: People, including fictional\n",
      "The name of the entity: Kingston, The entity type code, based on the: GPE, An explanation of the entity type code: Countries, cities, states\n",
      "The name of the entity: Countess, The entity type code, based on the: GPE, An explanation of the entity type code: Countries, cities, states\n",
      "The name of the entity: Mount-Cashel, The entity type code, based on the: PERSON, An explanation of the entity type code: People, including fictional\n",
      "The name of the entity: the summer of 1787, The entity type code, based on the: DATE, An explanation of the entity type code: Absolute or relative dates or periods\n",
      "The name of the entity: Kingsborough, The entity type code, based on the: PERSON, An explanation of the entity type code: People, including fictional\n",
      "The name of the entity: Mary Wollstonecraft, The entity type code, based on the: PERSON, An explanation of the entity type code: People, including fictional\n",
      "The name of the entity: Bristol Hot-wells, The entity type code, based on the: ORG, An explanation of the entity type code: Companies, agencies, institutions, etc.\n",
      "The name of the entity: Mary Wollstonecraft, The entity type code, based on the: PERSON, An explanation of the entity type code: People, including fictional\n",
      "The name of the entity: Mary, a Fiction, The entity type code, based on the: WORK_OF_ART, An explanation of the entity type code: Titles of books, songs, etc.\n",
      "The name of the entity: friendship, The entity type code, based on the: ahihihi, An explanation of the entity type code: None\n",
      "The name of the entity: Fanny Blood, The entity type code, based on the: FAC, An explanation of the entity type code: Buildings, airports, highways, bridges, etc.\n"
     ]
    },
    {
     "name": "stderr",
     "output_type": "stream",
     "text": [
      "/Users/311tht/miniconda3/lib/python3.10/site-packages/spacy/glossary.py:19: UserWarning: [W118] Term 'ahihihi' not found in glossary. It may however be explained in documentation for the corpora used to train the language. Please check `nlp.meta[\"sources\"]` for any relevant links.\n",
      "  warnings.warn(Warnings.W118.format(term=term))\n"
     ]
    }
   ],
   "source": [
    "import spacy\n",
    "import json\n",
    "from spacy import displacy\n",
    "\n",
    "\n",
    "nlp = spacy.load('en_core_web_sm')\n",
    "ruler = nlp.add_pipe(\"entity_ruler\")\n",
    "pt = [{'label': 'ahihihi','pattern' : 'friendship'},\n",
    "           {'label': 'LOC','pattern' : {'LOWER' : 'continent'}}]\n",
    "\n",
    "ruler.add_patterns(pt)\n",
    "\n",
    "doc = nlp(\n",
    "    \"\"\"\n",
    "The little payment for her pamphlet on the \"Education of Daughters\"\n",
    "caused Mary Wollstonecraft to think more seriously of earning by her pen.\n",
    "The pamphlet seems also to have advanced her credit as a teacher.  After\n",
    "giving up her day school, she spent some weeks at Eton with the Rev. Mr.\n",
    "Prior, one of the masters there, who recommended her as governess to the\n",
    "daughters of Lord Kingsborough, an Irish viscount, eldest son of the Earl\n",
    "of Kingston.  Her way of teaching was by winning love, and she obtained\n",
    "the warm affection of the eldest of her pupils, who became afterwards\n",
    "Countess Mount-Cashel.  In the summer of 1787, Lord Kingsborough's\n",
    "family, including Mary Wollstonecraft, was at Bristol Hot-wells, before\n",
    "going to the Continent.  While there, Mary Wollstonecraft wrote her\n",
    "little tale published as \"Mary, a Fiction,\" wherein there was much based\n",
    "on the memory of her own friendship for Fanny Blood.\n",
    "\"\"\"\n",
    ")\n",
    "# ner_text = open()\n",
    "\n",
    "my_list = []\n",
    "my_dict = {'text': None, 'entity type' : None, 'explanation' : None}\n",
    "for ent in doc.ents:\n",
    "    my_dict = {'text': ent.text, 'entity type' : ent.label_, 'explanation' : spacy.explain(ent.label_)}\n",
    "    my_list.append(my_dict)\n",
    "    print(f\"Text: {ent.text}, The entity type: {ent.label_}, explanation: {spacy.explain(ent.label_)}\")\n",
    "    \n",
    "with open(\"test.json\", \"w\") as fp:\n",
    "    json.dump(my_list, fp)"
   ]
  },
  {
   "cell_type": "code",
   "execution_count": 5,
   "id": "74fed7ab",
   "metadata": {},
   "outputs": [
    {
     "data": {
      "text/plain": [
       "{'LAW': ['the \"Education of Daughters'],\n",
       " 'PERSON': ['Mary Wollstonecraft',\n",
       "  'Kingsborough',\n",
       "  'Earl',\n",
       "  'Mount-Cashel',\n",
       "  'Kingsborough',\n",
       "  'Mary Wollstonecraft',\n",
       "  'Mary Wollstonecraft'],\n",
       " 'DATE': ['some weeks', 'the summer of 1787'],\n",
       " 'ORG': ['Eton', 'Bristol Hot-wells'],\n",
       " 'CARDINAL': ['one'],\n",
       " 'NORP': ['Irish'],\n",
       " 'GPE': ['Kingston', 'Countess'],\n",
       " 'WORK_OF_ART': ['Mary, a Fiction'],\n",
       " 'ahihihi': ['friendship'],\n",
       " 'FAC': ['Fanny Blood']}"
      ]
     },
     "execution_count": 5,
     "metadata": {},
     "output_type": "execute_result"
    }
   ],
   "source": [
    "dict"
   ]
  },
  {
   "cell_type": "code",
   "execution_count": 20,
   "id": "3d4dd854",
   "metadata": {},
   "outputs": [
    {
     "data": {
      "text/plain": [
       "[{'name': 'OntoNotes 5',\n",
       "  'url': 'https://catalog.ldc.upenn.edu/LDC2013T19',\n",
       "  'license': 'commercial (licensed by Explosion)',\n",
       "  'author': 'Ralph Weischedel, Martha Palmer, Mitchell Marcus, Eduard Hovy, Sameer Pradhan, Lance Ramshaw, Nianwen Xue, Ann Taylor, Jeff Kaufman, Michelle Franchini, Mohammed El-Bachouti, Robert Belvin, Ann Houston'},\n",
       " {'name': 'ClearNLP Constituent-to-Dependency Conversion',\n",
       "  'url': 'https://github.com/clir/clearnlp-guidelines/blob/master/md/components/dependency_conversion.md',\n",
       "  'license': 'Citation provided for reference, no code packaged with model',\n",
       "  'author': 'Emory University'},\n",
       " {'name': 'WordNet 3.0',\n",
       "  'url': 'https://wordnet.princeton.edu/',\n",
       "  'author': 'Princeton University',\n",
       "  'license': 'WordNet 3.0 License'},\n",
       " {'name': 'roberta-base',\n",
       "  'author': 'Yinhan Liu and Myle Ott and Naman Goyal and Jingfei Du and Mandar Joshi and Danqi Chen and Omer Levy and Mike Lewis and Luke Zettlemoyer and Veselin Stoyanov',\n",
       "  'url': 'https://github.com/pytorch/fairseq/tree/master/examples/roberta',\n",
       "  'license': ''}]"
      ]
     },
     "execution_count": 20,
     "metadata": {},
     "output_type": "execute_result"
    }
   ],
   "source": [
    "nlp.meta[\"sources\"]"
   ]
  },
  {
   "cell_type": "code",
   "execution_count": 4,
   "id": "70d48edf",
   "metadata": {},
   "outputs": [],
   "source": [
    "## Import Counter to count named entities\n",
    "from collections import Counter\n"
   ]
  },
  {
   "cell_type": "code",
   "execution_count": 15,
   "id": "debaeb2b",
   "metadata": {},
   "outputs": [
    {
     "name": "stdout",
     "output_type": "stream",
     "text": [
      "People, including fictional\n"
     ]
    }
   ],
   "source": [
    "print(spacy.explain(ent.label_))"
   ]
  },
  {
   "cell_type": "code",
   "execution_count": 2,
   "id": "117546ab",
   "metadata": {},
   "outputs": [
    {
     "name": "stdout",
     "output_type": "stream",
     "text": [
      "{'transformer': [], 'tagger': ['$', \"''\", ',', '-LRB-', '-RRB-', '.', ':', 'ADD', 'AFX', 'CC', 'CD', 'DT', 'EX', 'FW', 'HYPH', 'IN', 'JJ', 'JJR', 'JJS', 'LS', 'MD', 'NFP', 'NN', 'NNP', 'NNPS', 'NNS', 'PDT', 'POS', 'PRP', 'PRP$', 'RB', 'RBR', 'RBS', 'RP', 'SYM', 'TO', 'UH', 'VB', 'VBD', 'VBG', 'VBN', 'VBP', 'VBZ', 'WDT', 'WP', 'WP$', 'WRB', 'XX', '``'], 'parser': ['ROOT', 'acl', 'acomp', 'advcl', 'advmod', 'agent', 'amod', 'appos', 'attr', 'aux', 'auxpass', 'case', 'cc', 'ccomp', 'compound', 'conj', 'csubj', 'csubjpass', 'dative', 'dep', 'det', 'dobj', 'expl', 'intj', 'mark', 'meta', 'neg', 'nmod', 'npadvmod', 'nsubj', 'nsubjpass', 'nummod', 'oprd', 'parataxis', 'pcomp', 'pobj', 'poss', 'preconj', 'predet', 'prep', 'prt', 'punct', 'quantmod', 'relcl', 'xcomp'], 'attribute_ruler': [], 'lemmatizer': [], 'ner': ['CARDINAL', 'DATE', 'EVENT', 'FAC', 'GPE', 'LANGUAGE', 'LAW', 'LOC', 'MONEY', 'NORP', 'ORDINAL', 'ORG', 'PERCENT', 'PERSON', 'PRODUCT', 'QUANTITY', 'TIME', 'WORK_OF_ART']}\n"
     ]
    }
   ],
   "source": [
    "# des\n",
    "print(nlp.pipe_labels)"
   ]
  },
  {
   "cell_type": "code",
   "execution_count": 3,
   "id": "bb57f335",
   "metadata": {},
   "outputs": [
    {
     "name": "stdout",
     "output_type": "stream",
     "text": [
      "['CARDINAL', 'DATE', 'EVENT', 'FAC', 'GPE', 'LANGUAGE', 'LAW', 'LOC', 'MONEY', 'NORP', 'ORDINAL', 'ORG', 'PERCENT', 'PERSON', 'PRODUCT', 'QUANTITY', 'TIME', 'WORK_OF_ART']\n"
     ]
    }
   ],
   "source": [
    "print(nlp.pipe_labels['ner'])"
   ]
  },
  {
   "cell_type": "code",
   "execution_count": 5,
   "id": "486edd42",
   "metadata": {},
   "outputs": [
    {
     "name": "stdout",
     "output_type": "stream",
     "text": [
      "Count [('GPE', ['U.K.']), ('ORG', ['Apple', 'OpenAI']), ('MONEY', ['$1 billion'])]\n"
     ]
    }
   ],
   "source": [
    "print(\"Count\",Counter(dict).most_common(3))"
   ]
  },
  {
   "cell_type": "code",
   "execution_count": 7,
   "id": "d4165632",
   "metadata": {},
   "outputs": [],
   "source": [
    "ruler = nlp.add_pipe(\"entity_ruler\")"
   ]
  },
  {
   "cell_type": "code",
   "execution_count": 7,
   "id": "6431fcf0",
   "metadata": {},
   "outputs": [],
   "source": [
    "patterns = [{'label': 'ahihihi','pattern' : 'friendship'},\n",
    "           {'label': 'LOC','pattern' : {'LOWER' : 'continent','DOC':'Kingston'}}]"
   ]
  },
  {
   "cell_type": "code",
   "execution_count": 22,
   "id": "e83b5d17",
   "metadata": {},
   "outputs": [
    {
     "data": {
      "text/plain": [
       "{'WORK_OF_ART': ['the \"Education of Daughters\"', 'Mary, a Fiction'],\n",
       " 'PERSON': ['Mary Wollstonecraft',\n",
       "  'Prior',\n",
       "  'Kingsborough',\n",
       "  'Mount-Cashel',\n",
       "  'Kingsborough',\n",
       "  'Mary Wollstonecraft',\n",
       "  'Mary Wollstonecraft',\n",
       "  'Fanny Blood'],\n",
       " 'DATE': ['some weeks', 'the summer of 1787'],\n",
       " 'FAC': ['Eton'],\n",
       " 'CARDINAL': ['one'],\n",
       " 'NORP': ['Irish'],\n",
       " 'GPE': ['Kingston'],\n",
       " 'ORG': ['Bristol Hot-wells'],\n",
       " 'LOC': ['Continent'],\n",
       " 'ahihihi': ['friendship']}"
      ]
     },
     "execution_count": 22,
     "metadata": {},
     "output_type": "execute_result"
    }
   ],
   "source": [
    "dict"
   ]
  },
  {
   "cell_type": "code",
   "execution_count": null,
   "id": "b0096fb2",
   "metadata": {},
   "outputs": [],
   "source": []
  },
  {
   "cell_type": "code",
   "execution_count": null,
   "id": "e6e8da41",
   "metadata": {},
   "outputs": [],
   "source": [
    "import spacy\n",
    "import json\n",
    "from spacy import displacy\n",
    "\n",
    "\n",
    "nlp = spacy.load('en_core_web_sm')\n",
    "ruler = nlp.add_pipe(\"entity_ruler\")\n",
    "pt = [{'label': 'ahihihi','pattern' : 'friendship'},\n",
    "           {'label': 'LOC','pattern' : {'LOWER' : 'continent'}}]\n",
    "\n",
    "ruler.add_patterns(pt)\n",
    "\n",
    "doc = nlp(\n",
    "    \"\"\"\n",
    "The little payment for her pamphlet on the \"Education of Daughters\"\n",
    "caused Mary Wollstonecraft to think more seriously of earning by her pen.\n",
    "The pamphlet seems also to have advanced her credit as a teacher.  After\n",
    "giving up her day school, she spent some weeks at Eton with the Rev. Mr.\n",
    "Prior, one of the masters there, who recommended her as governess to the\n",
    "daughters of Lord Kingsborough, an Irish viscount, eldest son of the Earl\n",
    "of Kingston.  Her way of teaching was by winning love, and she obtained\n",
    "the warm affection of the eldest of her pupils, who became afterwards\n",
    "Countess Mount-Cashel.  In the summer of 1787, Lord Kingsborough's\n",
    "family, including Mary Wollstonecraft, was at Bristol Hot-wells, before\n",
    "going to the Continent.  While there, Mary Wollstonecraft wrote her\n",
    "little tale published as \"Mary, a Fiction,\" wherein there was much based\n",
    "on the memory of her own friendship for Fanny Blood.\n",
    "\"\"\"\n",
    ")\n",
    "# ner_text = open()\n",
    "\n",
    "my_list = []\n",
    "my_dict = {'text': None, 'entity type' : None, 'explanation' : None}\n",
    "for ent in doc.ents:\n",
    "    my_dict = {'text': ent.text, 'entity type' : ent.label_, 'explanation' : spacy.explain(ent.label_)}\n",
    "    my_list.append(my_dict)\n",
    "    print(f\"Text: {ent.text}, The entity type: {ent.label_}, explanation: {spacy.explain(ent.label_)}\")"
   ]
  }
 ],
 "metadata": {
  "kernelspec": {
   "display_name": "Python 3 (ipykernel)",
   "language": "python",
   "name": "python3"
  },
  "language_info": {
   "codemirror_mode": {
    "name": "ipython",
    "version": 3
   },
   "file_extension": ".py",
   "mimetype": "text/x-python",
   "name": "python",
   "nbconvert_exporter": "python",
   "pygments_lexer": "ipython3",
   "version": "3.10.9"
  }
 },
 "nbformat": 4,
 "nbformat_minor": 5
}

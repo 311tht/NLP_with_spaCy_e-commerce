{
 "cells": [
  {
   "cell_type": "code",
   "execution_count": 22,
   "id": "e23bdd58",
   "metadata": {},
   "outputs": [],
   "source": [
    "import numpy as np\n",
    "from numpy.linalg import norm\n",
    "from sklearn.metrics.pairwise import cosine_similarity"
   ]
  },
  {
   "cell_type": "code",
   "execution_count": 15,
   "id": "3796d7fd",
   "metadata": {},
   "outputs": [],
   "source": [
    "# Load W2V\n",
    "def load_mappings(dataset):\n",
    "    f = open(dataset, 'r')\n",
    "    model= dict({})\n",
    "    for line in f:\n",
    "        tem=line.split()\n",
    "        vtem=[]\n",
    "        for i in range(1,len(tem)):\n",
    "            vtem.append( float(tem[i].strip()))\n",
    "        vec1=np.array(vtem)\n",
    "        model.update({tem[0].strip():vec1})\n",
    "    return model\n"
   ]
  },
  {
   "cell_type": "code",
   "execution_count": 19,
   "id": "d3fa088d",
   "metadata": {},
   "outputs": [],
   "source": [
    "# load W2V\n",
    "load_model = load_mappings(\"glove.6B.300d.txt\")"
   ]
  },
  {
   "cell_type": "code",
   "execution_count": 49,
   "id": "903c5a42",
   "metadata": {},
   "outputs": [
    {
     "data": {
      "text/plain": [
       "dict"
      ]
     },
     "execution_count": 49,
     "metadata": {},
     "output_type": "execute_result"
    }
   ],
   "source": [
    "type(load_model)"
   ]
  },
  {
   "cell_type": "code",
   "execution_count": 23,
   "id": "3e853d46",
   "metadata": {},
   "outputs": [],
   "source": [
    "category_list = [\"phone\", \"clothes\"]"
   ]
  },
  {
   "cell_type": "code",
   "execution_count": 38,
   "id": "41cb58fc",
   "metadata": {},
   "outputs": [],
   "source": [
    "# get_product_category \n",
    "def get_product_category(product, my_list):\n",
    "    if product in load_model: \n",
    "        embeddings = []\n",
    "        v1 = load_model[product.strip()]\n",
    "        embeddings.append(v1)\n",
    "        for category in my_list:\n",
    "            embeddings.append(load_model[category.strip()])\n",
    "        cos_sim = cosine_similarity(\n",
    "            [embeddings[0]],\n",
    "            embeddings[1:]\n",
    "    \t)\n",
    "        return my_list[np.argmax(cos_sim)]\n",
    "    return 0"
   ]
  },
  {
   "cell_type": "code",
   "execution_count": 48,
   "id": "48b56507",
   "metadata": {},
   "outputs": [
    {
     "name": "stdout",
     "output_type": "stream",
     "text": [
      "phone\n"
     ]
    }
   ],
   "source": [
    "product = \"nokia\"\n",
    "\n",
    "print(get_product_category(product, category_list))\n",
    "\n"
   ]
  }
 ],
 "metadata": {
  "kernelspec": {
   "display_name": "Python 3 (ipykernel)",
   "language": "python",
   "name": "python3"
  },
  "language_info": {
   "codemirror_mode": {
    "name": "ipython",
    "version": 3
   },
   "file_extension": ".py",
   "mimetype": "text/x-python",
   "name": "python",
   "nbconvert_exporter": "python",
   "pygments_lexer": "ipython3",
   "version": "3.10.9"
  }
 },
 "nbformat": 4,
 "nbformat_minor": 5
}

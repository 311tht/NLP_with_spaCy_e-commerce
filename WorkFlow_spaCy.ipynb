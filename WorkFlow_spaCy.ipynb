{
 "cells": [
  {
   "cell_type": "code",
   "execution_count": null,
   "id": "40a8e120",
   "metadata": {},
   "outputs": [],
   "source": []
  },
  {
   "cell_type": "code",
   "execution_count": 1,
   "id": "d56a8e6f",
   "metadata": {},
   "outputs": [],
   "source": [
    "import json\n",
    "import spacy\n",
    "import numpy as np\n",
    "from numpy.linalg import norm\n",
    "from sklearn.metrics.pairwise import cosine_similarity\n",
    "from spacy.training.example import Example"
   ]
  },
  {
   "cell_type": "code",
   "execution_count": 4,
   "id": "e33aab72",
   "metadata": {},
   "outputs": [],
   "source": [
    "# Load W2V\n",
    "def load_mappings(dataset):\n",
    "    f = open(dataset, 'r')\n",
    "    model= dict({})\n",
    "    for line in f:\n",
    "        tem=line.split()\n",
    "        vtem=[]\n",
    "        for i in range(1,len(tem)):\n",
    "            vtem.append( float(tem[i].strip()))\n",
    "        vec1=np.array(vtem)\n",
    "        model.update({tem[0].strip():vec1})\n",
    "    return model\n"
   ]
  },
  {
   "cell_type": "code",
   "execution_count": 39,
   "id": "22a65958",
   "metadata": {},
   "outputs": [],
   "source": [
    "def train (label, train_data, model):\n",
    "    # Add the new label to the entity recognizer\n",
    "    # Load the pre-trained model\n",
    "    nlp = spacy.load(model)\n",
    "\n",
    "    nlp_train = spacy.load(model)\n",
    "\n",
    "    ner = nlp_train.get_pipe(\"ner\")\n",
    "    ner.add_label(label)\n",
    "\n",
    "    # Fine-tune the model\n",
    "    optimizer = nlp_train.resume_training()\n",
    "    for i in range(10):\n",
    "        for example in train_data:\n",
    "            doc = nlp_train(example[0])\n",
    "            gold = Example.from_dict(doc, example[1])\n",
    "            nlp_train.update([gold], sgd=optimizer)\n",
    "    return nlp_train\n",
    "\n",
    "def get_product(text : str, train_model) -> str :\n",
    "    # Test the model train\n",
    "    list_test = []\n",
    "    label = [\"PRODUCT\",\"PRICE\"]\n",
    "    doc = train_model(text)        \n",
    "    for ent in doc.ents:\n",
    "        #if ent.label_ in label:\n",
    "        list_test.append([ent.text, ent.label_])\n",
    "    return list_test\n",
    "\n",
    "# get_product_category \n",
    "def get_product_category(my_product, my_list):\n",
    "    for i in my_product:\n",
    "        if i[1] == \"PRODUCT\":\n",
    "            product = i[0]\n",
    "    if product in load_model: \n",
    "        embeddings = []\n",
    "        v1 = load_model[product.strip()]\n",
    "        embeddings.append(v1)\n",
    "        for category in my_list:\n",
    "            embeddings.append(load_model[category.strip()])\n",
    "        cos_sim = cosine_similarity( [embeddings[0]], embeddings[1:])\n",
    "        return my_list[np.argmax(cos_sim)]\n",
    "    return 0\n",
    "\n",
    "def Workflow(label, model, train_data, test_text):\n",
    "    nlp_train = train(label, train_data, model)\n",
    "    nlp_test = get_product(test_text,nlp_train)\n",
    "    return nlp_test"
   ]
  },
  {
   "cell_type": "code",
   "execution_count": 10,
   "id": "3e82825d",
   "metadata": {},
   "outputs": [],
   "source": [
    "# load W2V\n",
    "load_model = load_mappings(\"glove.6B.300d.txt\")\n"
   ]
  },
  {
   "cell_type": "code",
   "execution_count": 46,
   "id": "634a7684",
   "metadata": {},
   "outputs": [
    {
     "name": "stderr",
     "output_type": "stream",
     "text": [
      "/Users/311tht/miniconda3/lib/python3.10/site-packages/spacy/training/iob_utils.py:149: UserWarning: [W030] Some entities could not be aligned in the text \"This is a great product\" with entities \"[(10, 17, 'PRODUCT')]\". Use `spacy.training.offsets_to_biluo_tags(nlp.make_doc(text), entities)` to check the alignment. Misaligned entities ('-') will be ignored during training.\n",
      "  warnings.warn(\n"
     ]
    },
    {
     "name": "stdout",
     "output_type": "stream",
     "text": [
      "[['phone', 'PRODUCT'], ['1000$', 'MONEY']]\n",
      "phone\n"
     ]
    }
   ],
   "source": [
    "if __name__ == '__main__':\n",
    "    # Define the new entity label\n",
    "    LABEL = \"PRODUCT\"\n",
    "    # Define model\n",
    "    model_name = \"en_core_web_sm\"\n",
    "    # Define the training data\n",
    "    TRAIN_DATA = [\n",
    "        (\n",
    "            \"This is a great product\",\n",
    "            {\n",
    "                \"entities\": [(10, 17, LABEL)]\n",
    "            },\n",
    "        ),\n",
    "        (\n",
    "            \"I love this shampoo\",\n",
    "            {\n",
    "                \"entities\": [(12, 19, LABEL)]\n",
    "            },\n",
    "        ),\n",
    "        (\n",
    "            \"The phone has a great camera\",\n",
    "            {\n",
    "                \"entities\": [(4, 9, LABEL)]\n",
    "            },\n",
    "        ),\n",
    "    ]\n",
    "    \n",
    "    category_list = [\"phone\", \"clothes\"]\n",
    "    \n",
    "    test_text = \"I'm looking for a new , phone with price 1000$\"\n",
    "    model = train(LABEL,TRAIN_DATA,model_name)\n",
    "    my_product = get_product(test_text, model)\n",
    "    predict = get_product_category(my_product, category_list)\n",
    "    print(my_product)\n",
    "    print(predict)"
   ]
  },
  {
   "cell_type": "code",
   "execution_count": 26,
   "id": "94df0aa1",
   "metadata": {},
   "outputs": [
    {
     "name": "stdout",
     "output_type": "stream",
     "text": [
      "phone\n",
      "1000$\n"
     ]
    }
   ],
   "source": []
  },
  {
   "cell_type": "code",
   "execution_count": 29,
   "id": "2c602c5c",
   "metadata": {
    "scrolled": true
   },
   "outputs": [
    {
     "name": "stdout",
     "output_type": "stream",
     "text": [
      "phone\n"
     ]
    }
   ],
   "source": []
  },
  {
   "cell_type": "code",
   "execution_count": null,
   "id": "cfecdbb3",
   "metadata": {},
   "outputs": [],
   "source": []
  },
  {
   "cell_type": "code",
   "execution_count": null,
   "id": "37c5f9be",
   "metadata": {},
   "outputs": [],
   "source": []
  }
 ],
 "metadata": {
  "kernelspec": {
   "display_name": "Python 3 (ipykernel)",
   "language": "python",
   "name": "python3"
  },
  "language_info": {
   "codemirror_mode": {
    "name": "ipython",
    "version": 3
   },
   "file_extension": ".py",
   "mimetype": "text/x-python",
   "name": "python",
   "nbconvert_exporter": "python",
   "pygments_lexer": "ipython3",
   "version": "3.10.9"
  }
 },
 "nbformat": 4,
 "nbformat_minor": 5
}

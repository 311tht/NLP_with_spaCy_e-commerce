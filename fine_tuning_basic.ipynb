{
 "cells": [
  {
   "cell_type": "code",
   "execution_count": 1,
   "id": "86a4178e",
   "metadata": {},
   "outputs": [],
   "source": [
    "import spacy\n",
    "from spacy.training.example import Example\n"
   ]
  },
  {
   "cell_type": "code",
   "execution_count": 2,
   "id": "0f54a7d0",
   "metadata": {},
   "outputs": [],
   "source": [
    "# Load the pre-trained model\n",
    "nlp = spacy.load(\"en_core_web_sm\")\n",
    "\n",
    "nlp_train = spacy.load(\"en_core_web_sm\")"
   ]
  },
  {
   "cell_type": "code",
   "execution_count": 4,
   "id": "c7c21118",
   "metadata": {},
   "outputs": [],
   "source": [
    "# Define the new entity label\n",
    "LABEL = \"PRODUCT\"\n",
    "\n",
    "# Define the training data\n",
    "TRAIN_DATA = [\n",
    "    (\n",
    "        \"This is a great product\",\n",
    "        {\n",
    "            \"entities\": [(10, 17, LABEL)]\n",
    "        },\n",
    "    ),\n",
    "    (\n",
    "        \"I love this shampoo\",\n",
    "        {\n",
    "            \"entities\": [(12, 19, LABEL)]\n",
    "        },\n",
    "    ),\n",
    "    (\n",
    "        \"The phone has a great camera\",\n",
    "        {\n",
    "            \"entities\": [(4, 9, LABEL)]\n",
    "        },\n",
    "    ),\n",
    "]"
   ]
  },
  {
   "cell_type": "code",
   "execution_count": 29,
   "id": "dc4f7965",
   "metadata": {},
   "outputs": [],
   "source": []
  },
  {
   "cell_type": "code",
   "execution_count": 5,
   "id": "9c95674c",
   "metadata": {},
   "outputs": [
    {
     "name": "stderr",
     "output_type": "stream",
     "text": [
      "/Users/311tht/miniconda3/lib/python3.10/site-packages/spacy/training/iob_utils.py:149: UserWarning: [W030] Some entities could not be aligned in the text \"This is a great product\" with entities \"[(10, 17, 'PRODUCT')]\". Use `spacy.training.offsets_to_biluo_tags(nlp.make_doc(text), entities)` to check the alignment. Misaligned entities ('-') will be ignored during training.\n",
      "  warnings.warn(\n"
     ]
    }
   ],
   "source": [
    "# Add the new label to the entity recognizer\n",
    "ner = nlp_train.get_pipe(\"ner\")\n",
    "ner.add_label(LABEL)\n",
    "\n",
    "# Fine-tune the model\n",
    "optimizer = nlp_train.resume_training()\n",
    "for i in range(10):\n",
    "    for example in TRAIN_DATA:\n",
    "        doc = nlp_train(example[0])\n",
    "        gold = Example.from_dict(doc, example[1])\n",
    "        nlp_train.update([gold], sgd=optimizer)\n",
    "\n"
   ]
  },
  {
   "cell_type": "code",
   "execution_count": 7,
   "id": "f93640ba",
   "metadata": {},
   "outputs": [
    {
     "name": "stdout",
     "output_type": "stream",
     "text": [
      "phone PRODUCT\n"
     ]
    }
   ],
   "source": [
    "\n",
    "        \n",
    "# Test the model train        \n",
    "doc = nlp_train(\"I'm looking for a new phone\")        \n",
    "for ent in doc.ents:\n",
    "    if ent.label_ == LABEL:\n",
    "        print(ent.text, ent.label_)"
   ]
  },
  {
   "cell_type": "code",
   "execution_count": 6,
   "id": "bad9d721",
   "metadata": {},
   "outputs": [],
   "source": [
    "# Test the model\n",
    "doc = nlp(\"I'm looking for a new phone\")\n",
    "for ent in doc.ents:\n",
    "    if ent.label_ == LABEL:\n",
    "        print(ent.text, ent.label_)"
   ]
  },
  {
   "cell_type": "code",
   "execution_count": null,
   "id": "bd5ddf5d",
   "metadata": {},
   "outputs": [],
   "source": []
  }
 ],
 "metadata": {
  "kernelspec": {
   "display_name": "Python 3 (ipykernel)",
   "language": "python",
   "name": "python3"
  },
  "language_info": {
   "codemirror_mode": {
    "name": "ipython",
    "version": 3
   },
   "file_extension": ".py",
   "mimetype": "text/x-python",
   "name": "python",
   "nbconvert_exporter": "python",
   "pygments_lexer": "ipython3",
   "version": "3.10.9"
  }
 },
 "nbformat": 4,
 "nbformat_minor": 5
}
